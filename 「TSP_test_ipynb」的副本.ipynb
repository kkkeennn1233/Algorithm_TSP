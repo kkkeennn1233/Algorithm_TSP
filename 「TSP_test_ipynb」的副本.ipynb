{
  "nbformat": 4,
  "nbformat_minor": 0,
  "metadata": {
    "accelerator": "GPU",
    "colab": {
      "name": "「TSP_test.ipynb」的副本",
      "provenance": [],
      "authorship_tag": "ABX9TyNl+dZUcH1zMV9koKrkkwly",
      "include_colab_link": true
    },
    "kernelspec": {
      "display_name": "Python 3",
      "name": "python3"
    },
    "language_info": {
      "name": "python"
    }
  },
  "cells": [
    {
      "cell_type": "markdown",
      "metadata": {
        "id": "view-in-github",
        "colab_type": "text"
      },
      "source": [
        "<a href=\"https://colab.research.google.com/github/kkkeennn1233/Algorithm_TSP/blob/main/%E3%80%8CTSP_test_ipynb%E3%80%8D%E7%9A%84%E5%89%AF%E6%9C%AC.ipynb\" target=\"_parent\"><img src=\"https://colab.research.google.com/assets/colab-badge.svg\" alt=\"Open In Colab\"/></a>"
      ]
    },
    {
      "cell_type": "code",
      "metadata": {
        "id": "lkgFJOGHiBxS"
      },
      "source": [
        "import random,time\n",
        "import matplotlib.pyplot as plt\n",
        "import numpy as np\n",
        "#建立城市之間距離運用字典\n",
        "def SetCostMatrix(num):# 建立一個距離矩陣\n",
        "    cmatrix ={}\n",
        "    for i in range(0, num):\n",
        "        for j in range(0, num):\n",
        "            if i == j:\n",
        "                cmatrix[(i, j)] = 0\n",
        "            else:\n",
        "              if j>i:\n",
        "                cmatrix[(i, j)] = random.randint(1, 30) # 每條邊權重包含(1-30)\n",
        "              else:\n",
        "                cmatrix[(i, j)] =cmatrix[(j, i)] # 同樣的點到同樣的點距離改成0\n",
        "    print(cmatrix)\n",
        "    return cmatrix\n",
        "\n",
        "#字典查值\n",
        "def GetCostVal(row, col):\n",
        "    return cities_matrix[(row, col)] # 查距離***查字典值的"
      ],
      "execution_count": null,
      "outputs": []
    },
    {
      "cell_type": "code",
      "metadata": {
        "id": "Eo-FAVkqhiDv"
      },
      "source": [
        "#TSP_DP 動態規劃 Dynamic_Programing\n",
        "def TSPGetMinDistance(start, cities):\n",
        "  D=[]\n",
        "  if len(cities) == 0:\n",
        "        minDis = GetCostVal(start,0)\n",
        "        return minDis\n",
        "  else:\n",
        "    for i in range(len(cities)):\n",
        "          dcities = cities[:]\n",
        "          dcities.remove(cities[i])\n",
        "          D.append(GetCostVal(start,cities[i]) + TSPGetMinDistance(cities[i],dcities))\n",
        "  return (min(D))"
      ],
      "execution_count": null,
      "outputs": []
    },
    {
      "cell_type": "code",
      "metadata": {
        "id": "aZJxVMmEOWWB"
      },
      "source": [
        "#TSP_GY 貪婪演算法 Greedy_Algorithm\n",
        "import sys\n",
        "def Greedy_TSP(source,cities):#(起點,經過城市)\n",
        "  tour_Len =0 #總長度\n",
        "  cur = source\n",
        "  for j in range (len(cities)):#便利經過城市\n",
        "    next = 0 #先預設下一個去的城市\n",
        "    min_Dist = sys.maxsize #路徑最大可能數 \n",
        "    #print(cities)#城市矩陣\n",
        "    for j in cities:\n",
        "      if GetCostVal(cur,j) < min_Dist:\n",
        "        next = j\n",
        "        min_Dist = GetCostVal(cur, j)\n",
        "    cities.remove(next)\n",
        "    tour_Len += min_Dist\n",
        "    cur = next\n",
        "  tour_Len += GetCostVal(cur, source)\n",
        "  return (tour_Len)\n"
      ],
      "execution_count": null,
      "outputs": []
    },
    {
      "cell_type": "code",
      "metadata": {
        "id": "S0ba5PM1hwEy"
      },
      "source": [
        "TSP_time_DP=[] #紀錄經過城市時間差_DP\n",
        "TSP_time_GY=[] #紀錄經過城市時間差_GY\n",
        "\n",
        "def average_DP():\n",
        "  TSP_round_time_DP = [] #存取5次時間差\n",
        "  for i in range(5):\n",
        "    start_time = time.time()#起始時間\n",
        "    main_DP()\n",
        "    end_time = time.time()#結束時間\n",
        "    # print(end_time-start_time)\n",
        "    TSP_round_time_DP.append(end_time-start_time)#時間差\n",
        "  avg_time = (np.mean(TSP_round_time_DP))#平均時間差\n",
        "  TSP_time_DP.append(np.mean(avg_time))\n",
        "  #print(TSP_time_DP)\n",
        "\n",
        "def average_GY():\n",
        "  TSP_round_time_GY = [] #存取5次時間差\n",
        "  for i in range(5):\n",
        "    start_time = time.time()#起始時間\n",
        "    main_GY()\n",
        "    end_time = time.time()#結束時間\n",
        "    # print(end_time-start_time)\n",
        "    TSP_round_time_GY.append(end_time-start_time)#時間差\n",
        "  avg_time = (np.mean(TSP_round_time_GY))#平均時間差\n",
        "  TSP_time_GY.append(np.mean(avg_time))\n",
        "  #print(TSP_time_GY)\n",
        "\n",
        "TSP_DP_Min_Matrix =[] #紀錄經過城市最短距離和_DP\n",
        "def main_DP():\n",
        "  TSP_DP_Min = TSPGetMinDistance(start_point,cities_name)\n",
        "  # print(TSP_DP_Min)最短路徑DP\n",
        "  TSP_DP_Min_Matrix.append(TSP_DP_Min) #最小路徑加入陣列_DP\n",
        "\n",
        "  \n",
        "  \n",
        "TSP_GY_Min_Matrix =[] #紀錄經過城市最短距離和_DP\n",
        "def main_GY():\n",
        "  TSP_GY_Min = Greedy_TSP(start_point,cities_name)\n",
        "  #print(TSP_GY_Min) 最短路徑GY\n",
        "  TSP_GY_Min_Matrix.append(TSP_GY_Min) #最小路徑加入陣列_GY\n",
        "\n",
        "for i in range(4,14):\n",
        "    random_points = i # 有幾座城市\n",
        "    cities_matrix = SetCostMatrix(random_points) #城市距離字典\n",
        "    start_point = 0 # 從0出發\n",
        "    cities_name = [i for i in range(1,random_points)] #除了起點0的城市的points\n",
        "    average_DP()\n",
        "    average_GY()\n",
        "print(TSP_DP_Min_Matrix)\n",
        "print(TSP_GY_Min_Matrix)\n"
      ],
      "execution_count": null,
      "outputs": []
    },
    {
      "cell_type": "code",
      "metadata": {
        "id": "5ErmyhhIiyGu"
      },
      "source": [
        "#DP圖\n",
        "xpt = [i for i in range(4,14)]\n",
        "ypt = TSP_time_DP\n",
        "plt.plot(xpt,ypt) #畫線\n",
        "plt.title(\"TSP_DP_Time\", fontsize=20) #圖表標題\n",
        "plt.xlabel(\"Number_Of_City\", fontsize=12) #x軸標題\n",
        "plt.ylabel(\"AVG_Time(seconds)\", fontsize=12) #y軸標題\n",
        "plt.show() #顯示繪製的圖形"
      ],
      "execution_count": null,
      "outputs": []
    },
    {
      "cell_type": "code",
      "metadata": {
        "id": "ap0SN1IioUTy"
      },
      "source": [
        "#GY圖\n",
        "xpt = [i for i in range(4,14)]\n",
        "ypt = TSP_time_GY\n",
        "plt.plot(xpt,ypt) #畫線\n",
        "plt.title(\"TSP_GY_Time\", fontsize=20) #圖表標題\n",
        "plt.xlabel(\"Number_Of_City\", fontsize=12) #x軸標題\n",
        "plt.ylabel(\"AVG_Time(seconds)\", fontsize=12) #y軸標題\n",
        "plt.show() #顯示繪製的圖形"
      ],
      "execution_count": null,
      "outputs": []
    },
    {
      "cell_type": "code",
      "metadata": {
        "id": "qy4H88xXi7pH"
      },
      "source": [
        "#GY圖\n",
        "xpt = [i for i in range(4,14)]\n",
        "DP=np.array(TSP_DP_Min_Matrix)\n",
        "GY=np.array(TSP_GY_Min_Matrix)\n",
        "ypt = (GY-DP)/DP #( |(GY值-DP值)| )/ (DP值)\n",
        "plt.plot(xpt,ypt) #畫線\n",
        "plt.title(\"TSP\", fontsize=20) #圖表標題\n",
        "plt.xlabel(\"Number_Of_City\", fontsize=12) #x軸標題\n",
        "plt.ylabel(\"RelativeError\", fontsize=12) #y軸標題\n",
        "plt.show() #顯示繪製的圖形"
      ],
      "execution_count": null,
      "outputs": []
    }
  ]
}