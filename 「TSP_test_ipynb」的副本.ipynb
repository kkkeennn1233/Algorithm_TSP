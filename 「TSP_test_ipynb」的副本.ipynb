{
  "nbformat": 4,
  "nbformat_minor": 0,
  "metadata": {
    "accelerator": "GPU",
    "colab": {
      "name": "「TSP_test.ipynb」的副本",
      "provenance": [],
      "authorship_tag": "ABX9TyM8fd7H2R89Qs/JIRxPLZjM",
      "include_colab_link": true
    },
    "kernelspec": {
      "display_name": "Python 3",
      "name": "python3"
    },
    "language_info": {
      "name": "python"
    }
  },
  "cells": [
    {
      "cell_type": "markdown",
      "metadata": {
        "id": "view-in-github",
        "colab_type": "text"
      },
      "source": [
        "<a href=\"https://colab.research.google.com/github/kkkeennn1233/Algorithm_TSP/blob/main/%E3%80%8CTSP_test_ipynb%E3%80%8D%E7%9A%84%E5%89%AF%E6%9C%AC.ipynb\" target=\"_parent\"><img src=\"https://colab.research.google.com/assets/colab-badge.svg\" alt=\"Open In Colab\"/></a>"
      ]
    },
    {
      "cell_type": "code",
      "metadata": {
        "id": "lkgFJOGHiBxS"
      },
      "source": [
        "import random,time\n",
        "import matplotlib.pyplot as plt\n",
        "import numpy as np\n",
        "#建立城市之間距離運用字典\n",
        "def SetCostMatrix(num):# 建立一個距離矩陣\n",
        "    cmatrix ={}\n",
        "    for i in range(0, num):\n",
        "        for j in range(0, num):\n",
        "            if i == j:\n",
        "                cmatrix[(i, j)] = 0\n",
        "            else:\n",
        "              if j>i:\n",
        "                cmatrix[(i, j)] = random.randint(1, 30) # 每條邊權重包含(1-30)\n",
        "              else:\n",
        "                cmatrix[(i, j)] =cmatrix[(j, i)] # 同樣的點到同樣的點距離改成0\n",
        "    print(cmatrix)\n",
        "    return cmatrix\n",
        "\n",
        "#字典查值\n",
        "def GetCostVal(row, col):\n",
        "    return cities_matrix[(row, col)] # 查距離***查字典值的"
      ],
      "execution_count": 2,
      "outputs": []
    },
    {
      "cell_type": "code",
      "metadata": {
        "id": "Eo-FAVkqhiDv"
      },
      "source": [
        "#TSP_DP 動態規劃 Dynamic_Programing\n",
        "def TSPGetMinDistance(start, cities):\n",
        "  D=[]\n",
        "  if len(cities) == 0:\n",
        "        minDis = GetCostVal(start,0)\n",
        "        return minDis\n",
        "  else:\n",
        "    for i in range(len(cities)):\n",
        "          dcities = cities[:]\n",
        "          dcities.remove(cities[i])\n",
        "          D.append(GetCostVal(start,cities[i]) + TSPGetMinDistance(cities[i],dcities))\n",
        "  return (min(D))"
      ],
      "execution_count": 3,
      "outputs": []
    },
    {
      "cell_type": "code",
      "metadata": {
        "id": "aZJxVMmEOWWB"
      },
      "source": [
        "#TSP_GY 貪婪演算法 Greedy_Algorithm\n",
        "import sys\n",
        "def Greedy_TSP(source,cities):#(起點,經過城市)\n",
        "  tour_Len =0 #總長度\n",
        "  cur = source\n",
        "  a=len(cities)\n",
        "  for j in range (a):#便利經過城市\n",
        "    next = 0 #先預設下一個去的城市\n",
        "    min_Dist = sys.maxsize #路徑最大可能數 \n",
        "    #print(cities)#城市矩陣\n",
        "    for j in cities:\n",
        "      if GetCostVal(cur,j) < min_Dist:\n",
        "        next = j\n",
        "        min_Dist = GetCostVal(cur, j)\n",
        "    cities.remove(next)\n",
        "    tour_Len += min_Dist\n",
        "    cur = next\n",
        "  tour_Len += GetCostVal(cur, source)\n",
        "  return (tour_Len)\n"
      ],
      "execution_count": 4,
      "outputs": []
    },
    {
      "cell_type": "code",
      "metadata": {
        "id": "S0ba5PM1hwEy",
        "colab": {
          "base_uri": "https://localhost:8080/"
        },
        "outputId": "4cc3f656-6dab-4949-f1f0-16f3427ce9f7"
      },
      "source": [
        "TSP_time_DP=[] #紀錄經過城市時間差_DP\n",
        "TSP_time_GY=[] #紀錄經過城市時間差_GY\n",
        "TSP_GY_Min_Matrix =[] #紀錄經過城市最短距離和_DP\n",
        "TSP_DP_Min_Matrix=[]\n",
        "def average_DP():\n",
        "  TSP_round_time_DP = [] #存取5次時間差\n",
        "  for i in range(5):\n",
        "    start_time = time.time()#起始時間\n",
        "    main_DP()\n",
        "    end_time = time.time()#結束時間\n",
        "    # print(end_time-start_time)\n",
        "    TSP_round_time_DP.append(end_time-start_time)#時間差\n",
        "  avg_time = (np.mean(TSP_round_time_DP))#平均時間差\n",
        "  TSP_time_DP.append(np.mean(avg_time))\n",
        "  TSP_DP_Min_Matrix.append(main_DP()) #最小路徑加入陣列_DP\n",
        "  #print(TSP_time_DP)\n",
        "\n",
        "def average_GY():\n",
        "  TSP_round_time_GY = [] #存取5次時間差\n",
        "  for i in range(5):\n",
        "    start_time = time.time()#起始時間\n",
        "    main_GY()\n",
        "    end_time = time.time()#結束時間\n",
        "    # print(end_time-start_time)\n",
        "    TSP_round_time_GY.append(end_time-start_time)#時間差\n",
        "  avg_time = (np.mean(TSP_round_time_GY))#平均時間差\n",
        "  TSP_time_GY.append(np.mean(avg_time))\n",
        "  TSP_GY_Min_Matrix.append(main_GY()) #最小路徑加入陣列_GY\n",
        "  #print(TSP_time_GY)\n",
        "\n",
        "def main_DP():\n",
        "  TSP_DP_Min = TSPGetMinDistance(start_point,cities_name)\n",
        "  # print(TSP_DP_Min)最短路徑DP\n",
        "  return TSP_DP_Min\n",
        "  \n",
        "\n",
        "def main_GY():\n",
        "  g=cities_name[:]\n",
        "  TSP_GY_Min = Greedy_TSP(start_point,g)\n",
        "  return TSP_GY_Min\n",
        "\n",
        "for i in range(4,13):\n",
        "    random_points = i # 有幾座城市\n",
        "    cities_matrix = SetCostMatrix(random_points) #城市距離字典\n",
        "    start_point = 0 # 從0出發\n",
        "    cities_name = [i for i in range(1,random_points)] #除了起點0的城市的points\n",
        "    average_DP()\n",
        "    average_GY()\n",
        "print(TSP_DP_Min_Matrix)\n",
        "print(TSP_GY_Min_Matrix)\n"
      ],
      "execution_count": 5,
      "outputs": [
        {
          "output_type": "stream",
          "text": [
            "{(0, 0): 0, (0, 1): 8, (0, 2): 23, (0, 3): 14, (1, 0): 8, (1, 1): 0, (1, 2): 8, (1, 3): 6, (2, 0): 23, (2, 1): 8, (2, 2): 0, (2, 3): 6, (3, 0): 14, (3, 1): 6, (3, 2): 6, (3, 3): 0}\n",
            "{(0, 0): 0, (0, 1): 6, (0, 2): 23, (0, 3): 17, (0, 4): 25, (1, 0): 6, (1, 1): 0, (1, 2): 8, (1, 3): 21, (1, 4): 2, (2, 0): 23, (2, 1): 8, (2, 2): 0, (2, 3): 19, (2, 4): 16, (3, 0): 17, (3, 1): 21, (3, 2): 19, (3, 3): 0, (3, 4): 25, (4, 0): 25, (4, 1): 2, (4, 2): 16, (4, 3): 25, (4, 4): 0}\n",
            "{(0, 0): 0, (0, 1): 15, (0, 2): 9, (0, 3): 27, (0, 4): 18, (0, 5): 7, (1, 0): 15, (1, 1): 0, (1, 2): 4, (1, 3): 6, (1, 4): 11, (1, 5): 13, (2, 0): 9, (2, 1): 4, (2, 2): 0, (2, 3): 6, (2, 4): 1, (2, 5): 17, (3, 0): 27, (3, 1): 6, (3, 2): 6, (3, 3): 0, (3, 4): 28, (3, 5): 26, (4, 0): 18, (4, 1): 11, (4, 2): 1, (4, 3): 28, (4, 4): 0, (4, 5): 14, (5, 0): 7, (5, 1): 13, (5, 2): 17, (5, 3): 26, (5, 4): 14, (5, 5): 0}\n",
            "{(0, 0): 0, (0, 1): 19, (0, 2): 9, (0, 3): 29, (0, 4): 3, (0, 5): 26, (0, 6): 5, (1, 0): 19, (1, 1): 0, (1, 2): 1, (1, 3): 6, (1, 4): 12, (1, 5): 12, (1, 6): 28, (2, 0): 9, (2, 1): 1, (2, 2): 0, (2, 3): 18, (2, 4): 24, (2, 5): 30, (2, 6): 15, (3, 0): 29, (3, 1): 6, (3, 2): 18, (3, 3): 0, (3, 4): 22, (3, 5): 13, (3, 6): 15, (4, 0): 3, (4, 1): 12, (4, 2): 24, (4, 3): 22, (4, 4): 0, (4, 5): 19, (4, 6): 1, (5, 0): 26, (5, 1): 12, (5, 2): 30, (5, 3): 13, (5, 4): 19, (5, 5): 0, (5, 6): 20, (6, 0): 5, (6, 1): 28, (6, 2): 15, (6, 3): 15, (6, 4): 1, (6, 5): 20, (6, 6): 0}\n",
            "{(0, 0): 0, (0, 1): 21, (0, 2): 3, (0, 3): 22, (0, 4): 1, (0, 5): 9, (0, 6): 19, (0, 7): 13, (1, 0): 21, (1, 1): 0, (1, 2): 15, (1, 3): 26, (1, 4): 20, (1, 5): 28, (1, 6): 30, (1, 7): 9, (2, 0): 3, (2, 1): 15, (2, 2): 0, (2, 3): 15, (2, 4): 30, (2, 5): 12, (2, 6): 10, (2, 7): 16, (3, 0): 22, (3, 1): 26, (3, 2): 15, (3, 3): 0, (3, 4): 15, (3, 5): 16, (3, 6): 1, (3, 7): 4, (4, 0): 1, (4, 1): 20, (4, 2): 30, (4, 3): 15, (4, 4): 0, (4, 5): 10, (4, 6): 26, (4, 7): 21, (5, 0): 9, (5, 1): 28, (5, 2): 12, (5, 3): 16, (5, 4): 10, (5, 5): 0, (5, 6): 24, (5, 7): 5, (6, 0): 19, (6, 1): 30, (6, 2): 10, (6, 3): 1, (6, 4): 26, (6, 5): 24, (6, 6): 0, (6, 7): 17, (7, 0): 13, (7, 1): 9, (7, 2): 16, (7, 3): 4, (7, 4): 21, (7, 5): 5, (7, 6): 17, (7, 7): 0}\n",
            "{(0, 0): 0, (0, 1): 18, (0, 2): 20, (0, 3): 26, (0, 4): 29, (0, 5): 22, (0, 6): 1, (0, 7): 1, (0, 8): 10, (1, 0): 18, (1, 1): 0, (1, 2): 5, (1, 3): 18, (1, 4): 23, (1, 5): 21, (1, 6): 5, (1, 7): 15, (1, 8): 23, (2, 0): 20, (2, 1): 5, (2, 2): 0, (2, 3): 25, (2, 4): 21, (2, 5): 9, (2, 6): 11, (2, 7): 8, (2, 8): 29, (3, 0): 26, (3, 1): 18, (3, 2): 25, (3, 3): 0, (3, 4): 28, (3, 5): 4, (3, 6): 30, (3, 7): 7, (3, 8): 16, (4, 0): 29, (4, 1): 23, (4, 2): 21, (4, 3): 28, (4, 4): 0, (4, 5): 22, (4, 6): 6, (4, 7): 27, (4, 8): 14, (5, 0): 22, (5, 1): 21, (5, 2): 9, (5, 3): 4, (5, 4): 22, (5, 5): 0, (5, 6): 7, (5, 7): 17, (5, 8): 15, (6, 0): 1, (6, 1): 5, (6, 2): 11, (6, 3): 30, (6, 4): 6, (6, 5): 7, (6, 6): 0, (6, 7): 25, (6, 8): 27, (7, 0): 1, (7, 1): 15, (7, 2): 8, (7, 3): 7, (7, 4): 27, (7, 5): 17, (7, 6): 25, (7, 7): 0, (7, 8): 12, (8, 0): 10, (8, 1): 23, (8, 2): 29, (8, 3): 16, (8, 4): 14, (8, 5): 15, (8, 6): 27, (8, 7): 12, (8, 8): 0}\n",
            "[36, 36, 36, 36, 36, 60, 60, 60, 60, 60, 49, 49, 49, 49, 49, 53, 53, 53, 53, 53, 65, 65, 65, 65, 65, 61, 61, 61, 61, 61]\n",
            "[43, 0, 0, 0, 0, 60, 0, 0, 0, 0, 80, 0, 0, 0, 0, 65, 0, 0, 0, 0, 67, 0, 0, 0, 0, 88, 0, 0, 0, 0]\n"
          ],
          "name": "stdout"
        }
      ]
    },
    {
      "cell_type": "code",
      "metadata": {
        "id": "5ErmyhhIiyGu"
      },
      "source": [
        "#DP圖\n",
        "xpt = [i for i in range(4,14)]\n",
        "ypt = TSP_time_DP\n",
        "plt.plot(xpt,ypt) #畫線\n",
        "plt.title(\"TSP_DP_Time\", fontsize=20) #圖表標題\n",
        "plt.xlabel(\"Number_Of_City\", fontsize=12) #x軸標題\n",
        "plt.ylabel(\"AVG_Time(seconds)\", fontsize=12) #y軸標題\n",
        "plt.show() #顯示繪製的圖形"
      ],
      "execution_count": null,
      "outputs": []
    },
    {
      "cell_type": "code",
      "metadata": {
        "id": "ap0SN1IioUTy"
      },
      "source": [
        "#GY圖\n",
        "xpt = [i for i in range(4,14)]\n",
        "ypt = TSP_time_GY\n",
        "plt.plot(xpt,ypt) #畫線\n",
        "plt.title(\"TSP_GY_Time\", fontsize=20) #圖表標題\n",
        "plt.xlabel(\"Number_Of_City\", fontsize=12) #x軸標題\n",
        "plt.ylabel(\"AVG_Time(seconds)\", fontsize=12) #y軸標題\n",
        "plt.show() #顯示繪製的圖形"
      ],
      "execution_count": null,
      "outputs": []
    },
    {
      "cell_type": "code",
      "metadata": {
        "id": "qy4H88xXi7pH"
      },
      "source": [
        "#GY圖\n",
        "xpt = [i for i in range(4,14)]\n",
        "DP=np.array(TSP_DP_Min_Matrix)\n",
        "GY=np.array(TSP_GY_Min_Matrix)\n",
        "ypt = (GY-DP)/DP #( |(GY值-DP值)| )/ (DP值)\n",
        "plt.plot(xpt,ypt) #畫線\n",
        "plt.title(\"TSP\", fontsize=20) #圖表標題\n",
        "plt.xlabel(\"Number_Of_City\", fontsize=12) #x軸標題\n",
        "plt.ylabel(\"RelativeError\", fontsize=12) #y軸標題\n",
        "plt.show() #顯示繪製的圖形"
      ],
      "execution_count": null,
      "outputs": []
    }
  ]
}